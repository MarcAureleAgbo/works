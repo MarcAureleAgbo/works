{
 "cells": [
  {
   "cell_type": "code",
   "execution_count": null,
   "metadata": {},
   "outputs": [],
   "source": [
    "import pandas as pd\n",
    "import numpy as np\n",
    "import matplotlib.pyplot as plt\n",
    "from sklearn.preprocessing import MinMaxScaler\n",
    "from keras.models import Sequential\n",
    "from keras.layers import Dense, LSTM\n",
    "\n",
    "# 1. Charger les données historiques du Bitcoin\n",
    "df = pd.read_csv('Bitcoin_Historical_Data.csv', parse_dates=['Date'], index_col='Date')\n",
    "\n",
    "# 2. Prétraiter les données\n",
    "window_size = 30\n",
    "data = df.values\n",
    "sequence_length = window_size + 1\n",
    "result = []\n",
    "for index in range(len(data) - sequence_length):\n",
    "    result.append(data[index : index + sequence_length])\n",
    "result = np.array(result)\n",
    "\n",
    "# 3. Normaliser les données\n",
    "scaler = MinMaxScaler(feature_range=(0, 1))\n",
    "result = scaler.fit_transform(result.reshape(-1, 1)).reshape(-1, sequence_length)\n",
    "\n",
    "# 4. Diviser les données en ensembles d'entraînement et de test\n",
    "row = int(round(result.shape[0] * 0.9))\n",
    "train = result[:row, :]\n",
    "np.random.shuffle(train)\n",
    "x_train = train[:, :-1]\n",
    "y_train = train[:, -1]\n",
    "x_test = result[row:, :-1]\n",
    "y_test = result[row:, -1]\n",
    "\n",
    "# 5. Définir un modèle de RNN avec des couches LSTM\n",
    "model = Sequential()\n",
    "model.add(LSTM(units=50, return_sequences=True, input_shape=(window_size,\n"
   ]
  },
  {
   "cell_type": "code",
   "execution_count": null,
   "metadata": {},
   "outputs": [],
   "source": []
  },
  {
   "cell_type": "code",
   "execution_count": null,
   "metadata": {},
   "outputs": [],
   "source": [
    "    # 5. Définir un modèle de RNN avec des couches LSTM\n",
    "    model = Sequential()\n",
    "    model.add(LSTM(units=50, return_sequences=True, input_shape=(window_size, 1)))\n",
    "    model.add(LSTM(units=50))\n",
    "    model.add(Dense(units=1))\n",
    "\n",
    "    # 6. Compiler le modèle\n",
    "    model.compile(optimizer='adam', loss='mean_squared_error')\n",
    "\n",
    "    # 7. Entraîner le modèle\n",
    "    model.fit(x_train, y_train, epochs=50, batch_size=32)\n",
    "\n",
    "    # 8. Évaluer les performances du modèle\n",
    "    train_predict = model.predict(x_train)\n",
    "    test_predict = model.predict(x_test)\n",
    "\n",
    "    # Convertir les prédictions normalisées en valeurs réelles\n",
    "    train_predict = scaler.inverse_transform(train_predict)\n",
    "    y_train = scaler.inverse_transform([y_train])\n",
    "    test_predict = scaler.inverse_transform(test_predict)\n",
    "    y_test = scaler.inverse_transform([y_test])\n",
    "\n",
    "    # Calculer les métriques de performance\n",
    "    train_rmse = np.sqrt(np.mean((train_predict - y_train)**2))\n",
    "    test_rmse = np.sqrt(np.mean((test_predict - y_test)**2))\n",
    "    print('RMSE (train): {:.2f}'.format(train_rmse))\n",
    "    print('RMSE (test): {:.2f}'.format(test_rmse))\n",
    "\n",
    "    # 9. Faire des prévisions\n",
    "    days = 30\n",
    "    future = []\n",
    "    last_x = x_test[-1]\n",
    "    for i in range(days):\n",
    "        prediction = model.predict(last_x.reshape(1, window_size, 1))\n",
    "        future.append(prediction)\n",
    "        last_x = np.append(last_x[1:], prediction)\n",
    "    future = scaler.inverse_transform(future)\n",
    "\n",
    "    # Visualiser les résultats\n",
    "    plt.plot(df.index, df['Price'], label='Données réelles')\n",
    "    plt.plot(df.index[-len(train_predict):], train_predict, label='Prévisions sur les données d\\'entraînement')\n",
    "    plt.plot(df.index[-len(test_predict):], test_predict, label='Prévisions sur les données de test')\n",
    "    plt.plot(pd.date_range(start=df.index[-1], periods=days + 1, freq='D')[1:], future, label='Prévisions futures')\n",
    "    plt.legend()\n",
    "    plt.show()\n"
   ]
  },
  {
   "cell_type": "code",
   "execution_count": null,
   "metadata": {},
   "outputs": [],
   "source": []
  }
 ],
 "metadata": {
  "kernelspec": {
   "display_name": "Python 3",
   "language": "python",
   "name": "python3"
  },
  "language_info": {
   "name": "python",
   "version": "3.8.10"
  },
  "orig_nbformat": 4,
  "vscode": {
   "interpreter": {
    "hash": "916dbcbb3f70747c44a77c7bcd40155683ae19c65e1c03b4aa3499c5328201f1"
   }
  }
 },
 "nbformat": 4,
 "nbformat_minor": 2
}
