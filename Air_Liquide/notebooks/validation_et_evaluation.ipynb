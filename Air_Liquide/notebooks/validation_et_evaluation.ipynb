{
 "cells": [
  {
   "cell_type": "code",
   "execution_count": null,
   "metadata": {},
   "outputs": [],
   "source": [
    "# Importation des bibliothèques nécessaires\n",
    "import pandas as pd\n",
    "from sklearn.metrics import mean_squared_error\n",
    "from tensorflow.keras.models import load_model\n",
    "\n",
    "# Chargement des données de test\n",
    "test_data = pd.read_csv(\"/data/air_liquid_test_data.csv\")\n",
    "\n",
    "# Chargement du modèle entraîné\n",
    "model = load_model(\"/models/trained_model.h5\")\n",
    "\n",
    "# Prédiction sur les données de test\n",
    "X_test = test_data.drop(\"Price\", axis=1).values\n",
    "y_test = test_data[\"Price\"].values\n",
    "y_pred = model.predict(X_test)\n",
    "\n",
    "# Calcul de l'erreur quadratique moyenne\n",
    "mse = mean_squared_error(y_test, y_pred)\n",
    "print(\"Erreur quadratique moyenne : {:.2f}\".format(mse))\n"
   ]
  }
 ],
 "metadata": {
  "language_info": {
   "name": "python"
  },
  "orig_nbformat": 4
 },
 "nbformat": 4,
 "nbformat_minor": 2
}
